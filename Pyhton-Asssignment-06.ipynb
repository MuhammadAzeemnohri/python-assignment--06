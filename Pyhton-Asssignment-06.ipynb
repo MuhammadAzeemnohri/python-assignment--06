{
 "cells": [
  {
   "cell_type": "code",
   "execution_count": 1,
   "metadata": {},
   "outputs": [
    {
     "name": "stdout",
     "output_type": "stream",
     "text": [
      "The class and object approach lead the program towards object oriented programming \n",
      "-> Class is description that consists members as a single unit\n",
      "Members of class can be:\n",
      "Data members (attributes), which carry data specified with-in class\n",
      "Member functions (methods), which operate data members of same class as described\n",
      "Class itself is just description and doesn’t exist physically\n",
      "(i.e. doesn’t allocate memory)\n",
      "Variable or instance of class is called an object\n",
      "-> Object is physical existence of a class and allocate memory\n",
      "Many objects of same class can be created according to requirements\n",
      "Relationship b/w class and its object is similar to structure and its variable\n",
      "Data encapsulation and data hiding is provided with help of classes & objects\n",
      "\n"
     ]
    }
   ],
   "source": [
    "# Q1: Define Object Oriented Programming Language?\n",
    "\n",
    "print( \"The class and object approach lead the program towards object oriented programming \\n\"\n",
    "              \"-> Class is description that consists members as a single unit\\n\"\n",
    "                  \"Members of class can be:\\n\"\n",
    "                 \"Data members (attributes), which carry data specified with-in class\\n\"\n",
    "                 \"Member functions (methods), which operate data members of same class as described\\n\" \n",
    "                 \"Class itself is just description and doesn’t exist physically\\n\"\n",
    "                 \"(i.e. doesn’t allocate memory)\\n\"\n",
    "                 \"Variable or instance of class is called an object\\n\"\n",
    "             \"-> Object is physical existence of a class and allocate memory\\n\"\n",
    "                 \"Many objects of same class can be created according to requirements\\n\"\n",
    "                 \"Relationship b/w class and its object is similar to structure and its variable\\n\"\n",
    "                 \"Data encapsulation and data hiding is provided with help of classes & objects\\n\")"
   ]
  },
  {
   "cell_type": "code",
   "execution_count": 3,
   "metadata": {},
   "outputs": [
    {
     "name": "stdout",
     "output_type": "stream",
     "text": [
      "People think in terms of objects\n",
      "OO models map to reality\n",
      "Therefore, OO models are\n",
      "\n",
      "easy to develop\n",
      "easy to understand\n",
      "Re-usability\n",
      "Data Redundancy\n",
      "Code Maintenance\n",
      "Security\n",
      "Design Benefits \n",
      "Improve Speed\n",
      "Practical Approach\n",
      "Inheritence\n",
      "Polymorphism\n",
      "\n"
     ]
    }
   ],
   "source": [
    "# Q2: List down the Benefits of OOP?\n",
    "\n",
    "print(\"People think in terms of objects\\n\"\n",
    "      \"OO models map to reality\\n\"\n",
    "    \"Therefore, OO models are\\n\\n\"\n",
    "    \"easy to develop\\n\"\n",
    "    \"easy to understand\\n\"\n",
    "    \"Re-usability\\n\"\n",
    "    \"Data Redundancy\\n\"\n",
    "    \"Code Maintenance\\n\" \n",
    "    \"Security\\n\"\n",
    "    \"Design Benefits \\n\"\n",
    "    \"Improve Speed\\n\"\n",
    "    \"Practical Approach\\n\"\n",
    "    \"Inheritence\\n\"\n",
    "    \"Polymorphism\\n\")"
   ]
  },
  {
   "cell_type": "code",
   "execution_count": 8,
   "metadata": {},
   "outputs": [
    {
     "name": "stdout",
     "output_type": "stream",
     "text": [
      "*******************************METHODS************************************************\n",
      "(1) Method is called by its name, but it is associated to an object (dependent)\n",
      "(2) A method is implicitly passed the object on which it is invoked. \n",
      "(3) It may or may not return any data.\n",
      "(4) A method can operate on the data (instance variables) that is contained by the corresponding class\n",
      "\n",
      "\n",
      "*******************************FUNCTIONS***********************************************\n",
      "(1) Function is block of code that is also called by its name. (independent)\n",
      "(2) The function can have different parameters or may not have any at all.\n",
      "If any data (parameters) are passed, they are passed explicitly\n",
      "(3) It may or may not return any data\n",
      "(4) Function does not deal with Class and its instance concept. \n",
      "\n",
      "\n"
     ]
    }
   ],
   "source": [
    "# Q3: Differentiate between function and method?\n",
    "\n",
    "print(\"*******************************METHODS************************************************\\n\"\n",
    "      \"(1) Method is called by its name, but it is associated to an object (dependent)\\n\"\n",
    "      \"(2) A method is implicitly passed the object on which it is invoked. \\n\"\n",
    "      \"(3) It may or may not return any data.\\n\"\n",
    "      \"(4) A method can operate on the data (instance variables) that is contained by the corresponding class\\n\\n\")\n",
    "\n",
    "print(\"*******************************FUNCTIONS***********************************************\\n\"\n",
    "      \"(1) Function is block of code that is also called by its name. (independent)\\n\"\n",
    "      \"(2) The function can have different parameters or may not have any at all.\\n\"\n",
    "          \"If any data (parameters) are passed, they are passed explicitly\\n\"\n",
    "      \"(3) It may or may not return any data\\n\"\n",
    "      \"(4) Function does not deal with Class and its instance concept. \\n\\n\")"
   ]
  },
  {
   "cell_type": "code",
   "execution_count": 10,
   "metadata": {},
   "outputs": [
    {
     "name": "stdout",
     "output_type": "stream",
     "text": [
      "*******************************CLASS************************************************\n",
      "Class is description that consists members as a single unit\n",
      "Class itself is just description and doesn’t exist physically\n",
      "(i.e. doesn’t allocate memory)\n",
      "Variable or instance of class is called an object\n",
      "\n",
      "\n",
      "*******************************OBJECTS***********************************************\n",
      "Object is physical existence of a class and allocate memory\n",
      "Many objects of same class can be created according to requirements\n",
      "Relationship b/w class and its object is similar to structure and its variable\n",
      "\n",
      "\n",
      "*******************************ATTRIBUTES***********************************************\n",
      "some property that is associated with a particular type of object.\n",
      "Data members (attributes), which carry data specified with-in class\n",
      "\n",
      "\n",
      "*******************************BEHAVIOUR***********************************************\n",
      "A Behavior is how a feature operates within a well-defined scenario of inputs, actions, and outcomes.\n",
      "\n"
     ]
    }
   ],
   "source": [
    "'''Q4 Defines the following terms\n",
    "   \n",
    "   (1). CLASS\n",
    "   (2). OBJECTS\n",
    "   (3). ATTRIBUTES\n",
    "   (4). BEHAVIOUR'''\n",
    "\n",
    "print(\"*******************************CLASS************************************************\\n\"\n",
    "      \"Class is description that consists members as a single unit\\n\"\n",
    "      \"Class itself is just description and doesn’t exist physically\\n\"\n",
    "      \"(i.e. doesn’t allocate memory)\\n\"\n",
    "      \"Variable or instance of class is called an object\\n\\n\")\n",
    "      \n",
    "print(\"*******************************OBJECTS***********************************************\\n\"\n",
    "      \"Object is physical existence of a class and allocate memory\\n\"\n",
    "      \"Many objects of same class can be created according to requirements\\n\"\n",
    "      \"Relationship b/w class and its object is similar to structure and its variable\\n\\n\")\n",
    "\n",
    "print(\"*******************************ATTRIBUTES***********************************************\\n\"\n",
    "      \"some property that is associated with a particular type of object.\\n\"\n",
    "      \"Data members (attributes), which carry data specified with-in class\\n\\n\")\n",
    "      \n",
    "print(\"*******************************BEHAVIOUR***********************************************\\n\"\n",
    "      \"A Behavior is how a feature operates within a well-defined scenario of inputs, actions, and outcomes.\\n\") "
   ]
  },
  {
   "cell_type": "code",
   "execution_count": 1,
   "metadata": {},
   "outputs": [
    {
     "name": "stdout",
     "output_type": "stream",
     "text": [
      "Muhammad azeem\n",
      "autonomous car\n",
      "JETBlack\n",
      "2019\n",
      "Automobili Lamborghini s.p.a\n"
     ]
    }
   ],
   "source": [
    "'''Write a code in python in which create a Class named it CAR which have 5 attributes such \n",
    "   like (model,color and name etc.) and 3 methods. And create 5 object instance from that class'''\n",
    "\n",
    "class Car():\n",
    "    def __init__(self,name,model,color,year,cname):\n",
    "        self.name = name\n",
    "        self.model = model\n",
    "        self.color = color\n",
    "        self.year = year\n",
    "        self.cname = cname\n",
    "    \n",
    "data = Car('Muhammad azeem', 'autonomous car','JETBlack',2019,'Automobili Lamborghini s.p.a')\n",
    "print(data.name)\n",
    "print(data.model)\n",
    "print(data.color)\n",
    "print(data.year)\n",
    "print(data.cname)\n",
    "\n",
    "    \n",
    "\n",
    "    \n",
    "\n"
   ]
  },
  {
   "cell_type": "code",
   "execution_count": null,
   "metadata": {},
   "outputs": [],
   "source": []
  }
 ],
 "metadata": {
  "kernelspec": {
   "display_name": "Python 3",
   "language": "python",
   "name": "python3"
  },
  "language_info": {
   "codemirror_mode": {
    "name": "ipython",
    "version": 3
   },
   "file_extension": ".py",
   "mimetype": "text/x-python",
   "name": "python",
   "nbconvert_exporter": "python",
   "pygments_lexer": "ipython3",
   "version": "3.7.4"
  }
 },
 "nbformat": 4,
 "nbformat_minor": 2
}
